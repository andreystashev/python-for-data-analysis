{
 "cells": [
  {
   "cell_type": "code",
   "execution_count": 1,
   "id": "3a80d298",
   "metadata": {},
   "outputs": [],
   "source": [
    "from typing import Tuple\n",
    "import matplotlib.pyplot as plt\n",
    "import numpy as np\n",
    "from scipy.stats import norm, poisson\n",
    "import scipy\n",
    "\n",
    "# функции для генерации данных\n",
    "\n",
    "def generate_sample_for_statistic_calculation(size: int = 10000) -> np.ndarray:\n",
    "    rnd_mean = np.random.normal(5, 5, size=1)[0]\n",
    "    rnd_std = np.random.poisson(5, size=1)[0]\n",
    "    return norm(rnd_mean, rnd_std).rvs(size)\n",
    "\n",
    "\n",
    "def correlation_data() -> Tuple[np.ndarray, np.ndarray]:\n",
    "    sample1 = norm(0, 1).rvs(1000)\n",
    "    noise = norm(0, 1).rvs(1000)\n",
    "    sample2 = np.random.normal(0, 1, size=1)[0] * sample1 + np.random.normal(0, 1, size=1) + noise\n",
    "    return sample1, sample2\n",
    "\n",
    "\n",
    "def task3_data() -> np.ndarray:\n",
    "    if np.random.random() < 0.8:\n",
    "        return norm(0, 1).rvs(1000)\n",
    "    else:\n",
    "        return poisson(5).rvs(1000)\n",
    "    \n",
    "    \n",
    "def task4_part1() -> Tuple[np.ndarray, np.ndarray]:\n",
    "    rnd_mean1 = np.random.normal(5, 5, size=1)[0]\n",
    "    rnd_std1 = np.random.poisson(5, size=1)[0]\n",
    "    \n",
    "    rnd_mean2 = np.random.normal(5, 5, size=1)[0]\n",
    "    rnd_std2 = np.random.poisson(5, size=1)[0]\n",
    "    \n",
    "    sample1 = norm(rnd_mean1, rnd_std1).rvs(1000)\n",
    "    sample2 = norm(rnd_mean2, rnd_std2).rvs(1000)\n",
    "    \n",
    "    print(f\"sample1 mean: {sample1.mean()}\")\n",
    "    print(f\"sample2 mean: {sample2.mean()}\")\n",
    "\n",
    "    return sample1, sample2\n",
    "    "
   ]
  },
  {
   "cell_type": "markdown",
   "id": "be8e7912",
   "metadata": {},
   "source": [
    "### Задание 1"
   ]
  },
  {
   "cell_type": "code",
   "execution_count": 2,
   "id": "8b81d856",
   "metadata": {},
   "outputs": [],
   "source": [
    "# Функция generate_sample_for_statistic_calculation() отдает выборку значений некоторого распределения.\n",
    "# Посчитать общие статистики: \n",
    "#    минимум, максимум, медиана, среднее, дисперсия, стандратное отклонение, 0.25 и 0.75 квантили\n",
    "# Используйте numpy и его функции агрегации.\n",
    "# Для подсчета квантилей используйте функцию np.quantile(). Аргументы посмотрите в документации.\n",
    "# Выведите все статистики по очереди на каждой строчке через print. \n",
    "# Посмотрите на цифры. Сделайте выводы о том, какие значения может принимать анализируемая случайная величина. \n",
    "# Как соотносятся между собой статистики? \n",
    "# Например, сильно ли отклоняются минимальные и максимальные значения от среднего?\n",
    "\n",
    "values = generate_sample_for_statistic_calculation()"
   ]
  },
  {
   "cell_type": "code",
   "execution_count": null,
   "id": "400dd16b",
   "metadata": {},
   "outputs": [],
   "source": [
    "print(\"Минимум: \", np.min(values))\n",
    "print(\"Максимум: \", np.max(values))\n",
    "print(\"Среднее: \", np.mean(values))\n",
    "print(\"Медиана: \", np.median(values))\n",
    "print(\"Дисперсия: \", np.var(values))\n",
    "print(\"Стандартное отклонение: \", np.std(values))\n",
    "print(\"Квантиль 0.25: \", np.quantile(values, 0.25))\n",
    "print(\"Квантиль 0.75: \", np.quantile(values, 0.75))\n",
    "\n",
    "# Среднее значение и медиана близки друг к другу, \n",
    "# что может свидетельствовать о том, что распределение может быть близким к нормальному. "
   ]
  },
  {
   "cell_type": "markdown",
   "id": "7141c344",
   "metadata": {},
   "source": [
    "### Задание 2"
   ]
  },
  {
   "cell_type": "code",
   "execution_count": 3,
   "id": "55f385ee",
   "metadata": {},
   "outputs": [],
   "source": [
    "# Корреляция\n",
    "# Корреляция показывает линейную зависимость между величинами и может принимать значения от -1 до 1.\n",
    "# 1 и -1 показывают сильную корреляцию. Значение близкое к нулю показывает то, что корреляции почти нет.\n",
    "# Напишите функцию корреляции с помощью модуля numpy.\n",
    "# Функция принимает 2 выборки. И возвращает одно число.\n",
    "# Сравните по времени (функция %%timeit) работу вашей функции и функции np.corrcoef() модуля numpy\n",
    "\n",
    "# Формула для расчет корреляции ниже:"
   ]
  },
  {
   "cell_type": "markdown",
   "id": "b5520a84",
   "metadata": {},
   "source": [
    "## $corr(x,y) = \\frac{\\sum_i^N{(x_i-\\bar{x}) (y_i-\\bar{y})}}{std(x) * std(y)} * \\frac{1}{N}$\n",
    "\n",
    "#### $\\sum - знак \\, суммирования \\, по \\, членам \\, вектора$\n",
    "#### $std - стандартное \\, отклонение$\n",
    "#### $\\bar{x} - среднее \\, вектора$"
   ]
  },
  {
   "cell_type": "code",
   "execution_count": 46,
   "id": "22f0ad65",
   "metadata": {},
   "outputs": [],
   "source": [
    "\n",
    "sample1, sample2 = correlation_data()\n",
    "\n",
    "def correlation(x, y):\n",
    "    return np.sum((x - np.mean(x)) * (y - np.mean(y)) / (len(x) * np.std(x) * np.std(y)))\n"
   ]
  },
  {
   "cell_type": "code",
   "execution_count": 45,
   "id": "f520a07b",
   "metadata": {},
   "outputs": [
    {
     "name": "stdout",
     "output_type": "stream",
     "text": [
      "54.9 µs ± 125 ns per loop (mean ± std. dev. of 7 runs, 10000 loops each)\n"
     ]
    }
   ],
   "source": [
    "%%timeit\n",
    "correlation(sample1, sample2)"
   ]
  },
  {
   "cell_type": "code",
   "execution_count": 44,
   "id": "97d1b64e",
   "metadata": {},
   "outputs": [
    {
     "name": "stdout",
     "output_type": "stream",
     "text": [
      "50.9 µs ± 237 ns per loop (mean ± std. dev. of 7 runs, 10000 loops each)\n"
     ]
    }
   ],
   "source": [
    "%%timeit\n",
    "np.corrcoef(sample1,sample2) #различия во времени не существенны"
   ]
  },
  {
   "cell_type": "markdown",
   "id": "6014c1ff",
   "metadata": {},
   "source": [
    "### Задание 3"
   ]
  },
  {
   "cell_type": "code",
   "execution_count": 5,
   "id": "1167aa9a",
   "metadata": {},
   "outputs": [],
   "source": [
    "# Код генерирует данные, которые вы должны проверить на нормальность распределения.\n",
    "# Напишите код, который это выполняет.\n",
    "# Определите нулевую гипотезу и альтернативную.\n",
    "# Задайте уровень значимости.\n",
    "# проведите тест и сделайте выводы на его основе.\n",
    "# выведи вс нужные для принятия решения результаты на экран"
   ]
  },
  {
   "cell_type": "code",
   "execution_count": 40,
   "id": "73564c2d",
   "metadata": {},
   "outputs": [
    {
     "name": "stdout",
     "output_type": "stream",
     "text": [
      "Шапиро-Уилка тест:\n",
      "stat: 0.9986146092414856\n",
      "p: 0.6309080123901367\n",
      "Данные нормально распределены\n"
     ]
    }
   ],
   "source": [
    "import numpy as np\n",
    "from scipy.stats import shapiro\n",
    "\n",
    "def task3_data() -> np.ndarray:\n",
    "    if np.random.random() < 0.8:\n",
    "        return np.random.normal(0, 1, 1000)\n",
    "    else:\n",
    "        return np.random.poisson(5, 1000)\n",
    "\n",
    "values = task3_data()\n",
    "stat, p = shapiro(values)\n",
    "alpha = 0.05\n",
    "\n",
    "print(\"Шапиро-Уилка тест:\\nstat:\", stat)\n",
    "print(\"p:\", p)\n",
    "\n",
    "if p > alpha:\n",
    "    print(\"Данные нормально распределены\")\n",
    "else:\n",
    "    print(\"Данные нормально не распределены\")"
   ]
  },
  {
   "cell_type": "markdown",
   "id": "f3e50c3b",
   "metadata": {},
   "source": [
    "### Задание 4"
   ]
  },
  {
   "cell_type": "markdown",
   "id": "4681751e",
   "metadata": {},
   "source": [
    "#### Подзадание 1"
   ]
  },
  {
   "cell_type": "code",
   "execution_count": 7,
   "id": "fd83f001",
   "metadata": {},
   "outputs": [],
   "source": [
    "# проведите ttest на двух множествах (используйте ttest_ind метод из scipy.stats)\n",
    "# выберите уровень значимости.\n",
    "# определите нулевую и и альтернативную гипотезы.\n",
    "# получите p_value. Определите прокрасился ли тест или нет.\n",
    "# сделайте выводы.\n",
    "# выводите все нужные для анализа результаты на экран"
   ]
  },
  {
   "cell_type": "code",
   "execution_count": 47,
   "id": "0a649a59",
   "metadata": {},
   "outputs": [
    {
     "name": "stdout",
     "output_type": "stream",
     "text": [
      "sample1 mean: 9.250290535531331\n",
      "sample2 mean: -2.624241686259411\n",
      "p_value: 0.0\n",
      "Тест прокрасился. Cтатистически значимая разница между выборками присутствует.\n"
     ]
    }
   ],
   "source": [
    "from scipy.stats import ttest_ind\n",
    "\n",
    "\n",
    "sample1, sample2 = task4_part1()\n",
    "\n",
    "def perform_ttest():\n",
    "    alpha = 0.05\n",
    "\n",
    "    statistic, p_value = ttest_ind(sample1, sample2)\n",
    "\n",
    "    if p_value > alpha:\n",
    "        result = \"Тест не прокрасился. Cтатистически значимая разница между выборками отсутствует.\"\n",
    "    else:\n",
    "        result = \"Тест прокрасился. Cтатистически значимая разница между выборками присутствует.\"\n",
    "\n",
    "    return p_value, result\n",
    "\n",
    "p_value, result = perform_ttest()\n",
    "\n",
    "print(\"p_value:\", p_value)\n",
    "print(result)"
   ]
  },
  {
   "cell_type": "markdown",
   "id": "1c008436",
   "metadata": {},
   "source": [
    "#### подзадание 2"
   ]
  },
  {
   "cell_type": "code",
   "execution_count": 9,
   "id": "9e02199e",
   "metadata": {},
   "outputs": [],
   "source": [
    "# Подбрасывали игральную кость. Делали это 1000 раз. Получили следующие показания.\n",
    "# Вопрос: является ли кость симметричной? То есть любая грань может выпасть одинаковое кол-во раз?\n",
    "# возьмите функцию chisquare из scipy.stats и проведи проверку.\n",
    "# выберите уровень значимости.\n",
    "# определите нулевую и и альтернативную гипотезы.\n",
    "# получите p_value. Определите прокрасился ли тест или нет.\n",
    "# сделайте выводы.\n",
    "\n",
    "# После выводов проделайте следующее:\n",
    "# Как должны были выпасть грани, чтобы тест показал противоположный результат? Запишите получившийся вариант"
   ]
  },
  {
   "cell_type": "markdown",
   "id": "54f555b3",
   "metadata": {},
   "source": [
    "$$\n",
    "\\begin{aligned}\n",
    "&\\begin{array}{cccc}\n",
    "\\hline Ребро & 1 & 2 & 3 & 4 & 5 & 6 \\\\\n",
    "\\hline Кол-во \\, выпаданий & 150 & 153 & 166 & 170 & 183 & 178 \\\\\n",
    "\\hline\n",
    "\\end{array}\n",
    "\\end{aligned}\n",
    "$$"
   ]
  },
  {
   "cell_type": "code",
   "execution_count": 38,
   "id": "30e69f8f",
   "metadata": {},
   "outputs": [
    {
     "name": "stdout",
     "output_type": "stream",
     "text": [
      "Статистика chi_stat: 5.228\n",
      "p_value: 0.3886932697639033\n",
      "Кость симметрична\n"
     ]
    }
   ],
   "source": [
    "from scipy.stats import chisquare\n",
    "\n",
    "observed = np.array([150, 153, 166, 170, 183, 178])\n",
    "expected = np.array([1000 / 6] * 6)\n",
    "\n",
    "chi_stat, p_value = chisquare(f_obs=observed, f_exp=expected)\n",
    "alpha = 0.05\n",
    "\n",
    "print(\"Статистика chi_stat:\", chi_stat)\n",
    "print(\"p_value:\", p_value)\n",
    "\n",
    "if p_value < alpha:\n",
    "    print(\"Кость не симметрична\")\n",
    "else:\n",
    "    print(\"Кость симметрична\")\n",
    "\n",
    "# Чтобы тест показал противоположный результат, грани должны выпасть неравномерно.\n"
   ]
  },
  {
   "cell_type": "markdown",
   "id": "a44430b2",
   "metadata": {},
   "source": [
    "### Задание 5"
   ]
  },
  {
   "cell_type": "code",
   "execution_count": 11,
   "id": "d0bca82f",
   "metadata": {},
   "outputs": [],
   "source": [
    "# Интегрирование. \n",
    "# Напишите функцию, которая определена на интервале от -10 до 10. \n",
    "# Функция на ваше усмотрение.\n",
    "# Посчитайте интеграл (площадь под кривой) вашей функции.\n",
    "# Проверьте себя либо аналитическим расчетом интеграла, либо воспользовавшись сервисом \n",
    "# https://www.integral-calculator.ru/"
   ]
  },
  {
   "cell_type": "code",
   "execution_count": 29,
   "id": "046700b9",
   "metadata": {},
   "outputs": [
    {
     "data": {
      "image/png": "[encoded data removed]",
      "text/plain": [
       "<Figure size 432x288 with 1 Axes>"
      ]
     },
     "metadata": {
      "needs_background": "light"
     },
     "output_type": "display_data"
    },
    {
     "name": "stdout",
     "output_type": "stream",
     "text": [
      "Интеграл функции y(x) на интервале от -10 до 10 = 666.6666666666667\n"
     ]
    }
   ],
   "source": [
    "import numpy as np\n",
    "import matplotlib.pyplot as plt\n",
    "from scipy.integrate import quad\n",
    "\n",
    "\n",
    "x = np.linspace(-10, 10, 100)\n",
    "def y(x):\n",
    "    return x**2\n",
    "\n",
    "plt.plot(x, y(x))\n",
    "plt.grid(True)\n",
    "plt.show()\n",
    "\n",
    "integral, error = quad(y, -10, 10)\n",
    "\n",
    "print(\"Интеграл функции y(x) на интервале от -10 до 10 =\", integral)"
   ]
  },
  {
   "cell_type": "markdown",
   "id": "fdf6a27d",
   "metadata": {},
   "source": [
    "### Задание 6"
   ]
  },
  {
   "cell_type": "code",
   "execution_count": null,
   "id": "beb3428b",
   "metadata": {},
   "outputs": [],
   "source": [
    "# Решите задачу интерполирования.\n",
    "# У вас есть конечное число точек. Постройте на них функцию, которую хочется.\n",
    "# Проведите на ней процедуру интерполяции. \n",
    "# Проверьте либо руками, либо с помощью питона результат работы вашей интерполяции \n",
    "# результат и выводы выведи на экран."
   ]
  },
  {
   "cell_type": "code",
   "execution_count": null,
   "id": "dbacfe81",
   "metadata": {},
   "outputs": [],
   "source": [
    "from scipy import interpolate"
   ]
  },
  {
   "cell_type": "code",
   "execution_count": 48,
   "id": "13d8fa88",
   "metadata": {
    "scrolled": true
   },
   "outputs": [
    {
     "data": {
      "image/png": "[encoded data removed]",
      "text/plain": [
       "<Figure size 720x360 with 1 Axes>"
      ]
     },
     "metadata": {
      "needs_background": "light"
     },
     "output_type": "display_data"
    }
   ],
   "source": [
    "import numpy as np\n",
    "from scipy.interpolate import CubicSpline\n",
    "import matplotlib.pyplot as plt\n",
    "\n",
    "x = np.arange(-20, 20, 1)\n",
    "y = np.sin(x)\n",
    "\n",
    "cs = CubicSpline(x, y)\n",
    "\n",
    "x_new = np.linspace(-20, 19, 1000)\n",
    "y_new = cs(x_new)\n",
    "\n",
    "plt.figure(figsize=(10, 5))\n",
    "plt.plot(x, y, 'o', label='Исходные точки')\n",
    "plt.plot(x_new, y_new, '-', label='Интерполяция')\n",
    "plt.xlabel('x')\n",
    "plt.ylabel('y')\n",
    "plt.title('Интерполяция функции y = sin(x)')\n",
    "plt.grid(True)\n",
    "plt.legend()\n",
    "plt.show()"
   ]
  }
 ],
 "metadata": {
  "kernelspec": {
   "display_name": "Python 3 (ipykernel)",
   "language": "python",
   "name": "python3"
  },
  "language_info": {
   "codemirror_mode": {
    "name": "ipython",
    "version": 3
   },
   "file_extension": ".py",
   "mimetype": "text/x-python",
   "name": "python",
   "nbconvert_exporter": "python",
   "pygments_lexer": "ipython3",
   "version": "3.9.7"
  }
 },
 "nbformat": 4,
 "nbformat_minor": 5
}
