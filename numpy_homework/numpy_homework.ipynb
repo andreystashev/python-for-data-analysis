{
 "cells": [
  {
   "cell_type": "raw",
   "id": "713edbf0",
   "metadata": {},
   "source": [
    "2. \n",
    "Возьмите 3 различных типа данных в питоне. \n",
    "Попробуйте преобразовать их в массивы numpy. Выводите результаты. \n",
    "В комментариях отпишите по полученному результату. \n",
    "Если преобразование невозможно, то также напишите почему.\n"
   ]
  },
  {
   "cell_type": "code",
   "execution_count": 4,
   "id": "375c8c8b",
   "metadata": {},
   "outputs": [
    {
     "data": {
      "text/plain": [
       "array(['1.0', '2', '3'], dtype='<U32')"
      ]
     },
     "execution_count": 4,
     "metadata": {},
     "output_type": "execute_result"
    }
   ],
   "source": [
    "import numpy\n",
    "data = [1.,2, \"3\"]\n",
    "numpy.array(data)"
   ]
  },
  {
   "cell_type": "raw",
   "id": "191f1697",
   "metadata": {},
   "source": [
    "3. \n",
    "Выберите 3 различных варианта задания одномерного массива. \n",
    "Создайте переменные, в которые запишите эти массивы. Выводите результаты.\n",
    "Сверху перед каждым созданием напишите суть метода в комментариях."
   ]
  },
  {
   "cell_type": "code",
   "execution_count": 12,
   "id": "89354e3f",
   "metadata": {
    "scrolled": true
   },
   "outputs": [
    {
     "name": "stdout",
     "output_type": "stream",
     "text": [
      "[1 2 3 4 5]\n",
      "[1 2 3 4 5]\n",
      "[1. 2. 3. 4. 5.]\n"
     ]
    }
   ],
   "source": [
    "import numpy\n",
    "\n",
    "my_array = numpy.array([1, 2, 3, 4, 5])\n",
    "print(my_array)\n",
    "\n",
    "my_array_2 = numpy.arange(1, 6)  # последовательность от 1 до 5\n",
    "print(my_array_2)\n",
    "\n",
    "my_array_3 = numpy.linspace(1, 5, 5)  # равномерная последовательность в интервале 1 до 5 на 5 элементов\n",
    "print(my_array_3)"
   ]
  },
  {
   "cell_type": "raw",
   "id": "a3f7f87e",
   "metadata": {},
   "source": [
    "4. \n",
    "Выберите 3 различных варианта задания многомерного массива (как правило, \n",
    "они получаются из одномерного, используя reshape). Создайте переменные, в которые запишите эти массивы.\n",
    "Выводите результаты. Сверху перед каждым созданием напишите суть метода в комментариях."
   ]
  },
  {
   "cell_type": "code",
   "execution_count": 16,
   "id": "c4e30dea",
   "metadata": {},
   "outputs": [
    {
     "name": "stdout",
     "output_type": "stream",
     "text": [
      "[[1 2]\n",
      " [3 4]]\n",
      "[[0. 0. 0. 0.]\n",
      " [0. 0. 0. 0.]\n",
      " [0. 0. 0. 0.]]\n",
      "[[1. 1. 1.]\n",
      " [1. 1. 1.]]\n"
     ]
    }
   ],
   "source": [
    "import numpy\n",
    "\n",
    "my_array = numpy.array([[1, 2], [3, 4]])\n",
    "print(my_array)\n",
    "\n",
    "my_array_2 = numpy.zeros((3, 4))  # матрица из нулей 3х4\n",
    "print(my_array_2)\n",
    "\n",
    "my_array_3 = numpy.ones((2, 3))  # матрица из единиц 2х3\n",
    "print(my_array_3)"
   ]
  },
  {
   "cell_type": "raw",
   "id": "52402ffc",
   "metadata": {},
   "source": [
    "5. \n",
    "Используя  np.arange создайте итератор с вещественным шагом. Выведите результат.\n"
   ]
  },
  {
   "cell_type": "code",
   "execution_count": 17,
   "id": "94cce930",
   "metadata": {},
   "outputs": [
    {
     "name": "stdout",
     "output_type": "stream",
     "text": [
      "[1.  1.1 1.2 1.3 1.4 1.5 1.6 1.7 1.8 1.9]\n"
     ]
    }
   ],
   "source": [
    "import numpy\n",
    "\n",
    "iterator = numpy.arange(1., 2., 0.1)\n",
    "\n",
    "print(iterator)"
   ]
  },
  {
   "cell_type": "raw",
   "id": "1bb44643",
   "metadata": {},
   "source": [
    "6. \n",
    "На практике зачастую требуется соединять 2 вектора в один вертикально или горизонтально. \n",
    "Придумайте 2 одномерных вектора. Соедините их способами, описанными ранее. Выводите результаты.  \n",
    "Напишите поясняющий комментарий.\n",
    "\n"
   ]
  },
  {
   "cell_type": "code",
   "execution_count": 20,
   "id": "c80a1fe7",
   "metadata": {},
   "outputs": [
    {
     "name": "stdout",
     "output_type": "stream",
     "text": [
      "Вертикальная конкатенация:\n",
      " [[1 2 3]\n",
      " [4 5 6]]\n",
      "Горизонтальная конкатенация: [1 2 3 4 5 6]\n"
     ]
    }
   ],
   "source": [
    "import numpy\n",
    "\n",
    "# Создание двух одномерных векторов\n",
    "vector1,vector2 = numpy.array([1, 2, 3]),numpy.array([4, 5, 6])\n",
    "\n",
    "vertical_concatenation = numpy.vstack((vector1, vector2))\n",
    "horizontal_concatenation = numpy.hstack((vector1, vector2))\n",
    "\n",
    "print(\"Вертикальная конкатенация:\\n\", vertical_concatenation)\n",
    "print(\"Горизонтальная конкатенация:\", horizontal_concatenation)\n"
   ]
  },
  {
   "cell_type": "raw",
   "id": "15ca2160",
   "metadata": {},
   "source": [
    "7.\n",
    "На практике зачастую требуется соединять 2 многомерных вектора в один вертикально или горизонтально.\n",
    "Придумайте 2 многомерных вектора. Соедините их любым понравившимся способом в один. \n",
    "Выводите результаты. Напишите поясняющий комментарий."
   ]
  },
  {
   "cell_type": "code",
   "execution_count": 22,
   "id": "92e40ea0",
   "metadata": {},
   "outputs": [
    {
     "name": "stdout",
     "output_type": "stream",
     "text": [
      "Вертикальная конкатенация:\n",
      " [[1 2]\n",
      " [3 4]\n",
      " [5 6]\n",
      " [7 8]]\n",
      "Горизонтальная конкатенация:\n",
      " [[1 2 5 6]\n",
      " [3 4 7 8]]\n"
     ]
    }
   ],
   "source": [
    "import numpy\n",
    "\n",
    "# Создание двух двумерных векторов\n",
    "vector1,vector2 = numpy.array([[1, 2], [3, 4]]),numpy.array([[5, 6], [7, 8]])\n",
    "\n",
    "vertical_concatenation = numpy.vstack((vector1, vector2))\n",
    "horizontal_concatenation = numpy.hstack((vector1, vector2))\n",
    "\n",
    "print(\"Вертикальная конкатенация:\\n\", vertical_concatenation)\n",
    "print(\"Горизонтальная конкатенация:\\n\", horizontal_concatenation)"
   ]
  },
  {
   "cell_type": "raw",
   "id": "d47227a4",
   "metadata": {},
   "source": [
    "8. \n",
    "Придумайте любую систему линейных уравнений. И попробуйте решить ее двумя способами, представленными в лекции. Выводите результаты. Если будет возникать ошибка, то попробуйте в комментариях объяснить, почему она возникает.\n"
   ]
  },
  {
   "cell_type": "code",
   "execution_count": null,
   "id": "4533a2d1",
   "metadata": {},
   "outputs": [],
   "source": []
  },
  {
   "cell_type": "raw",
   "id": "5afcae8a",
   "metadata": {},
   "source": [
    "9. \n",
    "Придумайте один одномерный массив. Поменяйте у него тип на различные 3 раза. Сохраните все действия в переменные. Выводите промежуточные результаты. Напишите поясняющие комментарии. Словарь с всевозможными типами данных в numpy рассматривался в лекции и есть в ноутбуке.\n"
   ]
  },
  {
   "cell_type": "code",
   "execution_count": 29,
   "id": "79bd8377",
   "metadata": {},
   "outputs": [
    {
     "name": "stdout",
     "output_type": "stream",
     "text": [
      "Тип данных исходного массива: int64\n",
      "[1 2 3 4 5] Тип данных массива int: int64\n",
      "[1. 2. 3. 4. 5.] Тип данных массива float: float64\n",
      "['1' '2' '3' '4' '5'] Тип данных массива string: <U21\n",
      "edn\n"
     ]
    },
    {
     "name": "stderr",
     "output_type": "stream",
     "text": [
      "/var/folders/r2/lzhd4pmn3dzdzqs17wgy75_r0000gn/T/ipykernel_42073/4059177623.py:7: DeprecationWarning: `np.int` is a deprecated alias for the builtin `int`. To silence this warning, use `int` by itself. Doing this will not modify any behavior and is safe. When replacing `np.int`, you may wish to use e.g. `np.int64` or `np.int32` to specify the precision. If you wish to review your current use, check the release note link for additional information.\n",
      "Deprecated in NumPy 1.20; for more details and guidance: https://numpy.org/devdocs/release/1.20.0-notes.html#deprecations\n",
      "  int_array = original_array.astype(numpy.int)\n",
      "/var/folders/r2/lzhd4pmn3dzdzqs17wgy75_r0000gn/T/ipykernel_42073/4059177623.py:11: DeprecationWarning: `np.float` is a deprecated alias for the builtin `float`. To silence this warning, use `float` by itself. Doing this will not modify any behavior and is safe. If you specifically wanted the numpy scalar type, use `np.float64` here.\n",
      "Deprecated in NumPy 1.20; for more details and guidance: https://numpy.org/devdocs/release/1.20.0-notes.html#deprecations\n",
      "  float_array = array.astype(numpy.float)\n",
      "/var/folders/r2/lzhd4pmn3dzdzqs17wgy75_r0000gn/T/ipykernel_42073/4059177623.py:15: DeprecationWarning: `np.str` is a deprecated alias for the builtin `str`. To silence this warning, use `str` by itself. Doing this will not modify any behavior and is safe. If you specifically wanted the numpy scalar type, use `np.str_` here.\n",
      "Deprecated in NumPy 1.20; for more details and guidance: https://numpy.org/devdocs/release/1.20.0-notes.html#deprecations\n",
      "  string_array = array.astype(numpy.str)\n"
     ]
    }
   ],
   "source": [
    "import numpy \n",
    "\n",
    "array = numpy.array([1, 2, 3, 4, 5])\n",
    "print(\"Тип данных исходного массива:\", array.dtype)\n",
    "\n",
    "# меняем на int\n",
    "int_array = original_array.astype(numpy.int)\n",
    "print(int_array,\"Тип данных массива int:\", int_array.dtype)\n",
    "\n",
    "# меняем на float\n",
    "float_array = array.astype(numpy.float)\n",
    "print(float_array, \"Тип данных массива float:\", float_array.dtype)\n",
    "\n",
    "# меняем на string\n",
    "string_array = array.astype(numpy.str)\n",
    "print(string_array,\"Тип данных массива string:\", string_array.dtype)\n"
   ]
  },
  {
   "cell_type": "raw",
   "id": "20ffb978",
   "metadata": {},
   "source": [
    "10. \n",
    "Придумайте многомерный вектор, у которого одна или несколько осей будут иметь 1 элемент. \n",
    "Попробуйте убрать эти оси из вектора. Какой метод вы использовали? Как он работает?"
   ]
  },
  {
   "cell_type": "code",
   "execution_count": 28,
   "id": "43e116b0",
   "metadata": {},
   "outputs": [
    {
     "name": "stdout",
     "output_type": "stream",
     "text": [
      "[[1 2 3]] Форма исходного вектора: (1, 3)\n",
      "[1 2 3] Форма вектора после удаления оси: (3,)\n"
     ]
    }
   ],
   "source": [
    "import numpy\n",
    "\n",
    "vector = numpy.array([[1, 2, 3]])  \n",
    "print(vector, \"Форма исходного вектора:\", vector.shape)\n",
    "result = numpy.squeeze(vector)\n",
    "print(result, \"Форма вектора после удаления оси:\", result.shape)"
   ]
  },
  {
   "cell_type": "raw",
   "id": "06382de2",
   "metadata": {},
   "source": [
    "11.\n",
    "Создайте многомерный вектор. Добавьте одну или несколько фиктивных осей в разные части размерностей этого вектора. Какой метод вы использовали? Какие методы еще есть?"
   ]
  },
  {
   "cell_type": "code",
   "execution_count": null,
   "id": "6d64179b",
   "metadata": {},
   "outputs": [],
   "source": []
  },
  {
   "cell_type": "raw",
   "id": "25c2e135",
   "metadata": {},
   "source": [
    "12. \n",
    "Возьмите математические тождества из ноутбука 1_linal.ipynb. Придумайте матрицы и проверьте все тождества на корректность. Выводите результаты."
   ]
  },
  {
   "cell_type": "code",
   "execution_count": null,
   "id": "04a65333",
   "metadata": {},
   "outputs": [],
   "source": []
  },
  {
   "cell_type": "raw",
   "id": "daec3021",
   "metadata": {},
   "source": [
    "13. \n",
    "Реализуйте функцию умножения двух матриц. Она должна уметь проверять размерность входящих матриц на возможность умножения, делать само перемножение и выводить результат. Если умножение невозможно, то должна выдаваться ошибка с понятным текстом. Само умножение матриц сделайте через тройной цикл (для этого надо понять, как работает операция умножения (не поэлементное) с матрицами. В видео есть объяснение от меня словами. Если будет нужно дополнительно поискать, то гугл не запрещается :). При задании аргументов и определении функции (какой тип возвращает функция) используйте модуль typing (https://docs.python.org/3/library/typing.html). Также напишите docstring к вашей функции. "
   ]
  },
  {
   "cell_type": "code",
   "execution_count": null,
   "id": "5615632e",
   "metadata": {},
   "outputs": [],
   "source": []
  },
  {
   "cell_type": "raw",
   "id": "ee868883",
   "metadata": {},
   "source": [
    "14. Возьмите 2 любые матрицы. И сравните время работы вашей функции по умножению матриц из п.7 с умножением матриц из numpy с помощью магической функции %%timeit в jupyter notebook. В комментариях сделайте выводы. Напишите возможные причины получения такого результата.\n",
    "\n",
    "После просмотра плейлиста с линейной алгеброй у вас будет достаточно знаний, чтобы сделать следующее задание.\n"
   ]
  },
  {
   "cell_type": "code",
   "execution_count": null,
   "id": "2248b166",
   "metadata": {},
   "outputs": [],
   "source": []
  },
  {
   "cell_type": "raw",
   "id": "6d08d4fa",
   "metadata": {},
   "source": [
    "15. Любая матрица - это оператор в линейном пространстве. Она может поворачивать, смещать, менять масштаб у векторов, на которые воздействует.\n",
    "Придумайте матрицы поворота, смещения, растяжения(или сжатия) и преобразуйте 3 каких-нибудь случайных вектора. Выводите результаты. В комментариях опишите словами, что вы сделали.\n"
   ]
  },
  {
   "cell_type": "code",
   "execution_count": null,
   "id": "0d13e41b",
   "metadata": {},
   "outputs": [],
   "source": []
  },
  {
   "cell_type": "raw",
   "id": "eb8ee799",
   "metadata": {},
   "source": []
  },
  {
   "cell_type": "code",
   "execution_count": null,
   "id": "86c0f6f4",
   "metadata": {},
   "outputs": [],
   "source": []
  },
  {
   "cell_type": "raw",
   "id": "95d45269",
   "metadata": {},
   "source": []
  }
 ],
 "metadata": {
  "kernelspec": {
   "display_name": "Python 3 (ipykernel)",
   "language": "python",
   "name": "python3"
  },
  "language_info": {
   "codemirror_mode": {
    "name": "ipython",
    "version": 3
   },
   "file_extension": ".py",
   "mimetype": "text/x-python",
   "name": "python",
   "nbconvert_exporter": "python",
   "pygments_lexer": "ipython3",
   "version": "3.9.7"
  }
 },
 "nbformat": 4,
 "nbformat_minor": 5
}
